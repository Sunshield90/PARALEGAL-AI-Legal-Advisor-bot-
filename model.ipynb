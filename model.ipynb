{
 "cells": [
  {
   "cell_type": "code",
   "execution_count": 1,
   "metadata": {},
   "outputs": [],
   "source": [
    "import os\n",
    "from dotenv import load_dotenv\n",
    "\n",
    "load_dotenv()\n",
    "\n",
    "OPENAI_API_KEY = os.getenv(\"OPENAI_API_KEY\")\n",
    "MODEL = \"gpt-3.5-turbo\"\n",
    "MODEL = \"mixtral:8x7b\"\n",
    "MODEL = \"llama2\""
   ]
  },
  {
   "cell_type": "code",
   "execution_count": 2,
   "metadata": {},
   "outputs": [
    {
     "name": "stdout",
     "output_type": "stream",
     "text": [
      "Sure, here's a joke for you:\n",
      "\n",
      "Q: What do you call an AI that can mow the lawn?\n",
      "A: An AIYah!\n",
      "\n",
      "This joke is about a computer program or software designed to perform tasks, like mowing lawns. It has a silly and entertaining name. Enjoy!\n"
     ]
    }
   ],
   "source": [
    "import os\n",
    "from langchain_community.llms import Ollama\n",
    "from langchain_community.embeddings import OllamaEmbeddings\n",
    "from langchain_openai.chat_models import ChatOpenAI\n",
    "from langchain_openai.embeddings import OpenAIEmbeddings\n",
    "\n",
    "MODEL = \"tinyllama\"\n",
    "\n",
    "OPENAI_API_KEY = os.getenv(\"OPENAI_API_KEY\") or \"sk-your-openai-api-key\"  \n",
    "\n",
    "if MODEL.startswith(\"gpt\"):\n",
    "    if not OPENAI_API_KEY or OPENAI_API_KEY == \"sk-your-openai-api-key\":\n",
    "        raise ValueError(\"❌ OPENAI_API_KEY is missing! Provide it as env variable or hardcode it.\")\n",
    "    \n",
    "    model = ChatOpenAI(openai_api_key=OPENAI_API_KEY, model=MODEL)\n",
    "    embeddings = OpenAIEmbeddings(openai_api_key=OPENAI_API_KEY)\n",
    "else:\n",
    "    model = Ollama(model=MODEL)\n",
    "    embeddings = OllamaEmbeddings(model=MODEL)\n",
    "\n",
    "response = model.invoke(\"Tell me a joke!\")\n",
    "print(response)\n"
   ]
  },
  {
   "cell_type": "code",
   "execution_count": 3,
   "metadata": {},
   "outputs": [
    {
     "data": {
      "text/plain": [
       "'Sorry for the late response! Here\\'s a classic AI joke:\\n\\nAI: \"Hey, can you tell me a joke?\"\\nFriend: \"Sure, what\\'s the secret to a long and happy marriage?\"\\nAI: \"Uh, the secret is having an open relationship.\"'"
      ]
     },
     "execution_count": 3,
     "metadata": {},
     "output_type": "execute_result"
    }
   ],
   "source": [
    "from langchain_core.output_parsers import StrOutputParser\n",
    "\n",
    "parser = StrOutputParser()\n",
    "\n",
    "chain = model | parser \n",
    "chain.invoke(\"Tell me a joke\")"
   ]
  },
  {
   "cell_type": "code",
   "execution_count": 4,
   "metadata": {},
   "outputs": [
    {
     "data": {
      "text/plain": [
       "'\\nAnswer the question based on the context below. If you can\\'t \\nanswer the question, reply \"I don\\'t know\".\\n\\nContext: Here is some context\\n\\nQuestion: Here is a question\\n'"
      ]
     },
     "execution_count": 4,
     "metadata": {},
     "output_type": "execute_result"
    }
   ],
   "source": [
    "from langchain.prompts import PromptTemplate\n",
    "\n",
    "template = \"\"\"\n",
    "Answer the question based on the context below. If you can't \n",
    "answer the question, reply \"I don't know\".\n",
    "\n",
    "Context: {context}\n",
    "\n",
    "Question: {question}\n",
    "\"\"\"\n",
    "\n",
    "prompt = PromptTemplate.from_template(template)\n",
    "prompt.format(context=\"Here is some context\", question=\"Here is a question\")"
   ]
  },
  {
   "cell_type": "code",
   "execution_count": 5,
   "metadata": {},
   "outputs": [
    {
     "data": {
      "text/plain": [
       "'Answer: There is no need to \"call\" a person by their name. The only appropriate response to the question is \"I don\\'t know.\"'"
      ]
     },
     "execution_count": 5,
     "metadata": {},
     "output_type": "execute_result"
    }
   ],
   "source": [
    "chain = prompt | model | parser\n",
    "\n",
    "chain.invoke({\"context\": \"People call me Pareeshi\", \"question\": \"What's your name'?\"})"
   ]
  },
  {
   "cell_type": "code",
   "execution_count": 6,
   "metadata": {},
   "outputs": [
    {
     "name": "stderr",
     "output_type": "stream",
     "text": [
      "invalid pdf header: b'\\xd9/\\x00\\x00%'\n",
      "incorrect startxref pointer(1)\n",
      "parsing for Object Streams\n"
     ]
    },
    {
     "data": {
      "text/plain": [
       "[Document(metadata={'source': 'doc.pdf', 'page': 0}, page_content='http://JUDIS.NIC.IN SUPREME COURT OF INDIA Page 1 of 3 \\nPETITIONER:\\nK.M. SHARMA\\n        Vs.\\nRESPONDENT:\\nDEVI LAL & ORS.\\nDATE OF JUDGMENT09/01/1990\\nBENCH:\\nMISRA RANGNATH\\nBENCH:\\nMISRA RANGNATH\\nPUNCHHI, M.M.\\nCITATION:\\n 1990 AIR  528            1990 SCR  (1)   1\\n 1990 SCC  (1) 438        JT 1990 (1)     5\\n 1990 SCALE  (1)1\\nACT:\\n    Constitution of India, 1950: Article 75(4) and  Schedule\\n111  Forms I and II--Oath/Affirmation by  Minister--Descrip-\\ntion  of  person as Deputy  Prime  Minister--Whether  valid,\\nlegal and constitutional.\\nHEADNOTE:\\n    The petitioner challenged the appointment of  Respondent\\nNo.  1 as Deputy Prime Minister of India on the ground  that\\nthe  oath  administered to him as such was not the  oath  in\\naccordance with the prescription of the Constitution.\\n    The  petition was contested by Respondent No. 1 and  the\\nUnion  of  India. It was contended for the latter  that  de-\\nscribing  Respondent  No.  1 as Deputy  Prime  Minister  was\\ndescriptive and for all purposes he was a Minister, that the\\nform  of oath prescribed in the Third Schedule  pursuant  to\\nthe requirement of Article 75(4) of the Constitution is only\\nfor a Minister of the Union, and that there was no  separate\\nform even for the Prime Minister.\\n    It  was  further submitted that the prescribed  oath  is\\nsusceptible  of  division into two  parts,  descriptive  and\\nsubstantial, and as long as the substantial part is properly\\nfollowed, as in the instant case, a mere mistake or error in\\nthe descriptive part would not vitiate the oath.\\nDismissing the writ petition,\\n    HELD:  Respondent  No. 1 is just a Minister  like  other\\nMembers  of  the  Council of Ministers though  he  has  been\\ndescribed  as Deputy Prime Minister. The description of  him\\nas Deputy Prime Minister does not confer on him any power of\\nPrime Minister. It cannot, therefore, be said that the  oath\\nadministered  to  him as Deputy Prime Minister was  not  the\\noath\\nin  accordance  with the prescription of  the  Constitution.\\n[3E, 2D]\\nJUDGMENT:\\nORIGINAL JURISDICTION: Writ Petition (C) No. 1269 of\\n1989.\\n2'),\n",
       " Document(metadata={'source': 'doc.pdf', 'page': 1}, page_content='http://JUDIS.NIC.IN SUPREME COURT OF INDIA Page 2 of 3 \\n    (Under Article 32 of the Constitution of India).\\n    K.M. Sharma petitioner-in-person.\\n    Soli  J.  Sorabjee,  Attorney  General,  Santosh  Hegde,\\nAdditional Solicitor General, A.K. Sen, Manbir Singh, Girish\\nChandra and Ms. A. Subhashini for the Respondents.\\n   The Court delivered the following order:\\n                      ORDER\\n    Two  contentions were raised by the petitioner  in  this\\nwrit petition challenging the appointment of Respondent  No.\\n1, Shri Devi Lal as Deputy Prime Minister of India:\\n   (i)  that  the oath administered to him as  Deputy  Prime\\nMinister  was not the oath in accordance with the  prescrip-\\ntion of the Constitution; and\\n   (ii)  he was still functioning as the Chief  Minister  of\\nHaryana  when the oath of office of his new  assignment  was\\nadministered to him.\\n    Pursuant to notice, two affidavits have been  filed--one\\nby the Respondent No. 1 and the other on behalf of the Union\\nof  India.  In  the affidavit of Respondent  No.  1  certain\\nprecedents have been relied upon and the practice which  has\\nbeen followed eversince the Constitution came into force has\\nbeen referred to.\\n    Learned  Attorney  General appearing on  behalf  of  the\\nUnion  of India has stated that the form prescribed  in  the\\nThird Schedule pursuant to the requirement of Article  75(4)\\nof the Constitution is only for a Minister of the Union  and\\nthere is no separate form even for the Prime Minister. Since\\nthe Prime Minister is also a member of the Council of Minis-\\nters,  he  takes the same oath as the  other  ministers  are\\nrequired to take. He maintains that yet in view of the  fact\\nthat  the Constitution describes him as the Prime  Minister,\\nwhile being sworn into office, he describes himself as Prime\\nMinister and this practice is in  vogue eversince 1950.  The\\noath  register is by the incumbent signed as Prime  Minister\\nand all other ministers sign as Ministers. He further  indi-\\ncates that describing Shri Devi Lal as Deputy Prime Minister\\nis  descriptive only and for all purposes he is  a  Minister\\nand there is no\\n3\\nconstitutional sanction for the post of Deputy Prime  Minis-\\nter as such.\\n    Relying on a bench decision of this Court in the case of\\nVirji Ram Sutaria v. Nathalal Premji Bhavadia & Ors., [1969]\\n2  SCR 627, learned Attorney General further  contends  that\\nthe  prescribed oath should be divided into two  parts,  one\\nwhich  is descriptive and the other which contains the  sub-\\nstantial  part.  And  according  to  him,  as  long  as  the\\nsubstantial  part  is properly followed, a mere  mistake  or\\nerror in the --descriptive part would not vitiate the oath.\\nThis Court in the reported decision said:\\n\"In  this  case,  as we have already  noted,  the  essential\\nrequirement of Article 173 read with Form VII-A was that the\\nperson taking the oath or making the affirmation would  bear\\ntrue faith and allegiance to the Constitution and uphold the\\nsovereignty and integrity of India. The words which  precede\\nthis portion are merely descriptive of the person and of his\\nnomination as a candidate.\"\\n    In  view  of the clear statement. made  by  the  learned\\nAttorney  General that Respondent No. 1 is just  a  Minister\\nlike other members of the Council of Ministers though he has\\nbeen described as Deputy Prime Minister but the  description\\nof  him as Deputy Prime Minister does not confer on him  any\\npowers  of the Prime Minister, along with his other  submis-\\nsions, we think the first contention raised by the petition-\\ner  has  no force. So far as the second contention  is  con-'),\n",
       " Document(metadata={'source': 'doc.pdf', 'page': 2}, page_content='http://JUDIS.NIC.IN SUPREME COURT OF INDIA Page 3 of 3 \\ncerned, the petitioner himself does not press it.\\n    We accordingly reject the writ petition for the  reasons\\nindicated above. No costs.\\nP.S.   S                                            Petition\\ndismissed.\\n4')]"
      ]
     },
     "execution_count": 6,
     "metadata": {},
     "output_type": "execute_result"
    }
   ],
   "source": [
    "from langchain_community.document_loaders import PyPDFLoader\n",
    "\n",
    "loader = PyPDFLoader(\"doc.pdf\")\n",
    "pages = loader.load_and_split()\n",
    "pages"
   ]
  },
  {
   "cell_type": "code",
   "execution_count": 7,
   "metadata": {},
   "outputs": [],
   "source": [
    "from langchain_community.vectorstores import DocArrayInMemorySearch\n",
    "\n",
    "vectorstore = DocArrayInMemorySearch.from_documents(pages, embedding=embeddings)"
   ]
  },
  {
   "cell_type": "code",
   "execution_count": 8,
   "metadata": {},
   "outputs": [
    {
     "data": {
      "text/plain": [
       "[Document(metadata={'source': 'doc.pdf', 'page': 2}, page_content='http://JUDIS.NIC.IN SUPREME COURT OF INDIA Page 3 of 3 \\ncerned, the petitioner himself does not press it.\\n    We accordingly reject the writ petition for the  reasons\\nindicated above. No costs.\\nP.S.   S                                            Petition\\ndismissed.\\n4'),\n",
       " Document(metadata={'source': 'doc.pdf', 'page': 1}, page_content='http://JUDIS.NIC.IN SUPREME COURT OF INDIA Page 2 of 3 \\n    (Under Article 32 of the Constitution of India).\\n    K.M. Sharma petitioner-in-person.\\n    Soli  J.  Sorabjee,  Attorney  General,  Santosh  Hegde,\\nAdditional Solicitor General, A.K. Sen, Manbir Singh, Girish\\nChandra and Ms. A. Subhashini for the Respondents.\\n   The Court delivered the following order:\\n                      ORDER\\n    Two  contentions were raised by the petitioner  in  this\\nwrit petition challenging the appointment of Respondent  No.\\n1, Shri Devi Lal as Deputy Prime Minister of India:\\n   (i)  that  the oath administered to him as  Deputy  Prime\\nMinister  was not the oath in accordance with the  prescrip-\\ntion of the Constitution; and\\n   (ii)  he was still functioning as the Chief  Minister  of\\nHaryana  when the oath of office of his new  assignment  was\\nadministered to him.\\n    Pursuant to notice, two affidavits have been  filed--one\\nby the Respondent No. 1 and the other on behalf of the Union\\nof  India.  In  the affidavit of Respondent  No.  1  certain\\nprecedents have been relied upon and the practice which  has\\nbeen followed eversince the Constitution came into force has\\nbeen referred to.\\n    Learned  Attorney  General appearing on  behalf  of  the\\nUnion  of India has stated that the form prescribed  in  the\\nThird Schedule pursuant to the requirement of Article  75(4)\\nof the Constitution is only for a Minister of the Union  and\\nthere is no separate form even for the Prime Minister. Since\\nthe Prime Minister is also a member of the Council of Minis-\\nters,  he  takes the same oath as the  other  ministers  are\\nrequired to take. He maintains that yet in view of the  fact\\nthat  the Constitution describes him as the Prime  Minister,\\nwhile being sworn into office, he describes himself as Prime\\nMinister and this practice is in  vogue eversince 1950.  The\\noath  register is by the incumbent signed as Prime  Minister\\nand all other ministers sign as Ministers. He further  indi-\\ncates that describing Shri Devi Lal as Deputy Prime Minister\\nis  descriptive only and for all purposes he is  a  Minister\\nand there is no\\n3\\nconstitutional sanction for the post of Deputy Prime  Minis-\\nter as such.\\n    Relying on a bench decision of this Court in the case of\\nVirji Ram Sutaria v. Nathalal Premji Bhavadia & Ors., [1969]\\n2  SCR 627, learned Attorney General further  contends  that\\nthe  prescribed oath should be divided into two  parts,  one\\nwhich  is descriptive and the other which contains the  sub-\\nstantial  part.  And  according  to  him,  as  long  as  the\\nsubstantial  part  is properly followed, a mere  mistake  or\\nerror in the --descriptive part would not vitiate the oath.\\nThis Court in the reported decision said:\\n\"In  this  case,  as we have already  noted,  the  essential\\nrequirement of Article 173 read with Form VII-A was that the\\nperson taking the oath or making the affirmation would  bear\\ntrue faith and allegiance to the Constitution and uphold the\\nsovereignty and integrity of India. The words which  precede\\nthis portion are merely descriptive of the person and of his\\nnomination as a candidate.\"\\n    In  view  of the clear statement. made  by  the  learned\\nAttorney  General that Respondent No. 1 is just  a  Minister\\nlike other members of the Council of Ministers though he has\\nbeen described as Deputy Prime Minister but the  description\\nof  him as Deputy Prime Minister does not confer on him  any\\npowers  of the Prime Minister, along with his other  submis-\\nsions, we think the first contention raised by the petition-\\ner  has  no force. So far as the second contention  is  con-'),\n",
       " Document(metadata={'source': 'doc.pdf', 'page': 0}, page_content='http://JUDIS.NIC.IN SUPREME COURT OF INDIA Page 1 of 3 \\nPETITIONER:\\nK.M. SHARMA\\n        Vs.\\nRESPONDENT:\\nDEVI LAL & ORS.\\nDATE OF JUDGMENT09/01/1990\\nBENCH:\\nMISRA RANGNATH\\nBENCH:\\nMISRA RANGNATH\\nPUNCHHI, M.M.\\nCITATION:\\n 1990 AIR  528            1990 SCR  (1)   1\\n 1990 SCC  (1) 438        JT 1990 (1)     5\\n 1990 SCALE  (1)1\\nACT:\\n    Constitution of India, 1950: Article 75(4) and  Schedule\\n111  Forms I and II--Oath/Affirmation by  Minister--Descrip-\\ntion  of  person as Deputy  Prime  Minister--Whether  valid,\\nlegal and constitutional.\\nHEADNOTE:\\n    The petitioner challenged the appointment of  Respondent\\nNo.  1 as Deputy Prime Minister of India on the ground  that\\nthe  oath  administered to him as such was not the  oath  in\\naccordance with the prescription of the Constitution.\\n    The  petition was contested by Respondent No. 1 and  the\\nUnion  of  India. It was contended for the latter  that  de-\\nscribing  Respondent  No.  1 as Deputy  Prime  Minister  was\\ndescriptive and for all purposes he was a Minister, that the\\nform  of oath prescribed in the Third Schedule  pursuant  to\\nthe requirement of Article 75(4) of the Constitution is only\\nfor a Minister of the Union, and that there was no  separate\\nform even for the Prime Minister.\\n    It  was  further submitted that the prescribed  oath  is\\nsusceptible  of  division into two  parts,  descriptive  and\\nsubstantial, and as long as the substantial part is properly\\nfollowed, as in the instant case, a mere mistake or error in\\nthe descriptive part would not vitiate the oath.\\nDismissing the writ petition,\\n    HELD:  Respondent  No. 1 is just a Minister  like  other\\nMembers  of  the  Council of Ministers though  he  has  been\\ndescribed  as Deputy Prime Minister. The description of  him\\nas Deputy Prime Minister does not confer on him any power of\\nPrime Minister. It cannot, therefore, be said that the  oath\\nadministered  to  him as Deputy Prime Minister was  not  the\\noath\\nin  accordance  with the prescription of  the  Constitution.\\n[3E, 2D]\\nJUDGMENT:\\nORIGINAL JURISDICTION: Writ Petition (C) No. 1269 of\\n1989.\\n2')]"
      ]
     },
     "execution_count": 8,
     "metadata": {},
     "output_type": "execute_result"
    }
   ],
   "source": [
    "retriever = vectorstore.as_retriever()\n",
    "retriever.invoke(\"machine learning\")"
   ]
  },
  {
   "cell_type": "code",
   "execution_count": 9,
   "metadata": {},
   "outputs": [],
   "source": [
    "from operator import itemgetter\n",
    "\n",
    "chain = (\n",
    "    {\n",
    "        \"context\": itemgetter(\"question\") | retriever,\n",
    "        \"question\": itemgetter(\"question\"),\n",
    "    }\n",
    "    | prompt\n",
    "    | model\n",
    "    | parser\n",
    ")"
   ]
  },
  {
   "cell_type": "code",
   "execution_count": 10,
   "metadata": {},
   "outputs": [
    {
     "name": "stdout",
     "output_type": "stream",
     "text": [
      "Question: why was the appeal rejected\n",
      "Answer: The question is not clear. Please provide more information and context to understand what is being asked. The passage provided does not include any context or explanation for the question. Therefore, it cannot be answered.\n",
      "\n"
     ]
    }
   ],
   "source": [
    "questions = [\n",
    "    \"why was the appeal rejected\",\n",
    "    # \"How many hours of live sessions?\",\n",
    "    # \"How many coding assignments are there in the program?\",\n",
    "    # \"Is there a program certificate upon completion?\",\n",
    "    # \"What programming language will be used in the program?\",\n",
    "    # \"How much does the program cost?\",\n",
    "]\n",
    "\n",
    "for question in questions:\n",
    "    print(f\"Question: {question}\")\n",
    "    print(f\"Answer: {chain.invoke({'question': question})}\")\n",
    "    print()"
   ]
  }
 ],
 "metadata": {
  "kernelspec": {
   "display_name": "Python 3",
   "language": "python",
   "name": "python3"
  },
  "language_info": {
   "codemirror_mode": {
    "name": "ipython",
    "version": 3
   },
   "file_extension": ".py",
   "mimetype": "text/x-python",
   "name": "python",
   "nbconvert_exporter": "python",
   "pygments_lexer": "ipython3",
   "version": "3.12.1"
  }
 },
 "nbformat": 4,
 "nbformat_minor": 2
}
